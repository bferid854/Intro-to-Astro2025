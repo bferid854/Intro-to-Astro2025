{
 "cells": [
  {
   "attachments": {
    "numpy.png": {
     "image/png": "[encoded data removed]"
    }
   },
   "cell_type": "markdown",
   "metadata": {},
   "source": [
    "# Python Libraries 1\n",
    "# Numpy ![numpy.png](attachment:numpy.png)"
   ]
  },
  {
   "cell_type": "code",
   "execution_count": 1,
   "metadata": {},
   "outputs": [],
   "source": [
    "import numpy"
   ]
  },
  {
   "cell_type": "code",
   "execution_count": 2,
   "metadata": {},
   "outputs": [],
   "source": [
    "l=[1,2,3]\n",
    "arr=numpy.array(l)"
   ]
  },
  {
   "cell_type": "code",
   "execution_count": 3,
   "metadata": {},
   "outputs": [
    {
     "data": {
      "text/plain": [
       "array([1, 2, 3])"
      ]
     },
     "execution_count": 3,
     "metadata": {},
     "output_type": "execute_result"
    }
   ],
   "source": [
    "arr"
   ]
  },
  {
   "cell_type": "code",
   "execution_count": 4,
   "metadata": {},
   "outputs": [],
   "source": [
    "import numpy as np"
   ]
  },
  {
   "cell_type": "code",
   "execution_count": 5,
   "metadata": {},
   "outputs": [
    {
     "data": {
      "text/plain": [
       "array([1, 2, 3])"
      ]
     },
     "execution_count": 5,
     "metadata": {},
     "output_type": "execute_result"
    }
   ],
   "source": [
    "np.array(l)"
   ]
  },
  {
   "cell_type": "code",
   "execution_count": 6,
   "metadata": {},
   "outputs": [],
   "source": [
    "arr_1=np.array([1,2,3])"
   ]
  },
  {
   "cell_type": "code",
   "execution_count": 7,
   "metadata": {},
   "outputs": [
    {
     "data": {
      "text/plain": [
       "array([1, 2, 3])"
      ]
     },
     "execution_count": 7,
     "metadata": {},
     "output_type": "execute_result"
    }
   ],
   "source": [
    "arr_1"
   ]
  },
  {
   "cell_type": "code",
   "execution_count": 8,
   "metadata": {},
   "outputs": [
    {
     "data": {
      "text/plain": [
       "array([2, 3, 4])"
      ]
     },
     "execution_count": 8,
     "metadata": {},
     "output_type": "execute_result"
    }
   ],
   "source": [
    "arr_1+1"
   ]
  },
  {
   "cell_type": "code",
   "execution_count": 9,
   "metadata": {},
   "outputs": [
    {
     "data": {
      "text/plain": [
       "array([2, 4, 6])"
      ]
     },
     "execution_count": 9,
     "metadata": {},
     "output_type": "execute_result"
    }
   ],
   "source": [
    "arr_1*2"
   ]
  },
  {
   "cell_type": "code",
   "execution_count": 10,
   "metadata": {},
   "outputs": [
    {
     "data": {
      "text/plain": [
       "[1, 2, 3, 2, 3, 4]"
      ]
     },
     "execution_count": 10,
     "metadata": {},
     "output_type": "execute_result"
    }
   ],
   "source": [
    "l_1=[1,2,3]\n",
    "l_2=[2,3,4]\n",
    "l_1+l_2"
   ]
  },
  {
   "cell_type": "code",
   "execution_count": 11,
   "metadata": {},
   "outputs": [],
   "source": [
    "arr_1=np.array(l_1)\n",
    "arr_2=np.array(l_2)"
   ]
  },
  {
   "cell_type": "code",
   "execution_count": 12,
   "metadata": {},
   "outputs": [
    {
     "data": {
      "text/plain": [
       "array([3, 5, 7])"
      ]
     },
     "execution_count": 12,
     "metadata": {},
     "output_type": "execute_result"
    }
   ],
   "source": [
    "arr_1+arr_2"
   ]
  },
  {
   "cell_type": "code",
   "execution_count": 13,
   "metadata": {},
   "outputs": [
    {
     "data": {
      "text/plain": [
       "6"
      ]
     },
     "execution_count": 13,
     "metadata": {},
     "output_type": "execute_result"
    }
   ],
   "source": [
    "arr_1.sum()"
   ]
  },
  {
   "cell_type": "code",
   "execution_count": 14,
   "metadata": {},
   "outputs": [
    {
     "data": {
      "text/plain": [
       "1"
      ]
     },
     "execution_count": 14,
     "metadata": {},
     "output_type": "execute_result"
    }
   ],
   "source": [
    "#Indexing\n",
    "arr_1[0]"
   ]
  },
  {
   "cell_type": "code",
   "execution_count": 15,
   "metadata": {},
   "outputs": [
    {
     "data": {
      "text/plain": [
       "3"
      ]
     },
     "execution_count": 15,
     "metadata": {},
     "output_type": "execute_result"
    }
   ],
   "source": [
    "arr_1[2]"
   ]
  },
  {
   "cell_type": "code",
   "execution_count": 16,
   "metadata": {},
   "outputs": [
    {
     "name": "stdout",
     "output_type": "stream",
     "text": [
      "1\n",
      "2\n",
      "3\n"
     ]
    }
   ],
   "source": [
    "for i in arr_1:\n",
    "    print(i)"
   ]
  },
  {
   "cell_type": "code",
   "execution_count": 17,
   "metadata": {},
   "outputs": [],
   "source": [
    "arr_2D=np.array([[1,1],[2,1],[3,2]])"
   ]
  },
  {
   "cell_type": "code",
   "execution_count": 18,
   "metadata": {},
   "outputs": [
    {
     "data": {
      "text/plain": [
       "array([[1, 1],\n",
       "       [2, 1],\n",
       "       [3, 2]])"
      ]
     },
     "execution_count": 18,
     "metadata": {},
     "output_type": "execute_result"
    }
   ],
   "source": [
    "arr_2D"
   ]
  },
  {
   "cell_type": "code",
   "execution_count": 19,
   "metadata": {},
   "outputs": [],
   "source": [
    "rand_array=np.random.random(size=[3,2])"
   ]
  },
  {
   "cell_type": "code",
   "execution_count": 20,
   "metadata": {},
   "outputs": [
    {
     "data": {
      "text/plain": [
       "array([[0., 0.],\n",
       "       [0., 0.],\n",
       "       [0., 0.]])"
      ]
     },
     "execution_count": 20,
     "metadata": {},
     "output_type": "execute_result"
    }
   ],
   "source": [
    "zero_array=np.zeros(shape=[3,2])\n",
    "zero_array"
   ]
  },
  {
   "cell_type": "code",
   "execution_count": 21,
   "metadata": {},
   "outputs": [
    {
     "data": {
      "text/plain": [
       "array([[0., 0.],\n",
       "       [0., 0.],\n",
       "       [0., 0.]])"
      ]
     },
     "execution_count": 21,
     "metadata": {},
     "output_type": "execute_result"
    }
   ],
   "source": [
    "zero_array"
   ]
  },
  {
   "cell_type": "code",
   "execution_count": 22,
   "metadata": {},
   "outputs": [],
   "source": [
    "rand_array=np.random.random(size=[5,5])"
   ]
  },
  {
   "cell_type": "code",
   "execution_count": 23,
   "metadata": {},
   "outputs": [
    {
     "data": {
      "text/plain": [
       "array([[0.13564928, 0.99624581, 0.50851898, 0.66020883, 0.52894469],\n",
       "       [0.85075478, 0.27527848, 0.89386464, 0.14412723, 0.51366122],\n",
       "       [0.10254649, 0.11539547, 0.70483017, 0.66085075, 0.04931326],\n",
       "       [0.83953216, 0.58113382, 0.79029606, 0.9174052 , 0.30713548],\n",
       "       [0.41876478, 0.79647593, 0.6369552 , 0.71893967, 0.8880337 ]])"
      ]
     },
     "execution_count": 23,
     "metadata": {},
     "output_type": "execute_result"
    }
   ],
   "source": [
    "rand_array"
   ]
  },
  {
   "cell_type": "code",
   "execution_count": 24,
   "metadata": {},
   "outputs": [
    {
     "data": {
      "text/plain": [
       "0.2752784794216957"
      ]
     },
     "execution_count": 24,
     "metadata": {},
     "output_type": "execute_result"
    }
   ],
   "source": [
    "rand_array[1,1]"
   ]
  },
  {
   "cell_type": "code",
   "execution_count": 25,
   "metadata": {},
   "outputs": [
    {
     "data": {
      "text/plain": [
       "array([[0.13564928, 0.99624581],\n",
       "       [0.85075478, 0.27527848]])"
      ]
     },
     "execution_count": 25,
     "metadata": {},
     "output_type": "execute_result"
    }
   ],
   "source": [
    "rand_array[0:2,0:2]"
   ]
  },
  {
   "cell_type": "code",
   "execution_count": 26,
   "metadata": {},
   "outputs": [
    {
     "data": {
      "text/plain": [
       "array([2.82956758, 2.67768634, 1.63293614, 3.43550272, 3.45916929])"
      ]
     },
     "execution_count": 26,
     "metadata": {},
     "output_type": "execute_result"
    }
   ],
   "source": [
    "rand_array.sum(axis=1)"
   ]
  },
  {
   "cell_type": "code",
   "execution_count": 27,
   "metadata": {},
   "outputs": [
    {
     "data": {
      "text/plain": [
       "2.08058552"
      ]
     },
     "execution_count": 27,
     "metadata": {},
     "output_type": "execute_result"
    }
   ],
   "source": [
    "np.array([0.4924862 , 0.58400964, 0.42182289, 0.31476085, 0.26750594]).sum()"
   ]
  },
  {
   "cell_type": "code",
   "execution_count": 28,
   "metadata": {},
   "outputs": [
    {
     "data": {
      "text/plain": [
       "array([[1.35649276, 9.96245806, 5.08518976, 6.60208831, 5.28944694],\n",
       "       [8.50754778, 2.75278479, 8.93864639, 1.44127225, 5.13661222],\n",
       "       [1.02546486, 1.15395475, 7.04830173, 6.60850749, 0.49313258],\n",
       "       [8.39532163, 5.81133819, 7.90296064, 9.17405197, 3.0713548 ],\n",
       "       [4.18764784, 7.9647593 , 6.36955204, 7.18939667, 8.88033704]])"
      ]
     },
     "execution_count": 28,
     "metadata": {},
     "output_type": "execute_result"
    }
   ],
   "source": [
    "rand_array*10"
   ]
  },
  {
   "cell_type": "code",
   "execution_count": 29,
   "metadata": {},
   "outputs": [
    {
     "data": {
      "text/plain": [
       "array([[0.13564928, 0.99624581, 0.50851898, 0.66020883, 0.52894469],\n",
       "       [0.85075478, 0.27527848, 0.89386464, 0.14412723, 0.51366122],\n",
       "       [0.10254649, 0.11539547, 0.70483017, 0.66085075, 0.04931326],\n",
       "       [0.83953216, 0.58113382, 0.79029606, 0.9174052 , 0.30713548],\n",
       "       [0.41876478, 0.79647593, 0.6369552 , 0.71893967, 0.8880337 ]])"
      ]
     },
     "execution_count": 29,
     "metadata": {},
     "output_type": "execute_result"
    }
   ],
   "source": [
    "rand_array"
   ]
  },
  {
   "cell_type": "code",
   "execution_count": 30,
   "metadata": {},
   "outputs": [],
   "source": [
    "rand_array=np.random.random(size=100)"
   ]
  },
  {
   "cell_type": "code",
   "execution_count": 31,
   "metadata": {},
   "outputs": [],
   "source": [
    "rand_array.sort()\n"
   ]
  },
  {
   "cell_type": "code",
   "execution_count": 32,
   "metadata": {},
   "outputs": [
    {
     "data": {
      "text/plain": [
       "array([0.01132116, 0.0187582 , 0.02545311, 0.03930517, 0.04260431,\n",
       "       0.0506078 , 0.05831668, 0.08048937, 0.0943863 , 0.10084103,\n",
       "       0.11053375, 0.11277226, 0.11431246, 0.12567324, 0.1519848 ,\n",
       "       0.16699735, 0.16894807, 0.19651658, 0.2022537 , 0.20551873,\n",
       "       0.20967962, 0.21979617, 0.22275787, 0.22459289, 0.23790463,\n",
       "       0.2405929 , 0.24573594, 0.25024579, 0.25187836, 0.25347223,\n",
       "       0.26146285, 0.28188717, 0.30094293, 0.31947194, 0.32527944,\n",
       "       0.32536066, 0.33274791, 0.33599424, 0.33948202, 0.3420731 ,\n",
       "       0.35340427, 0.35705621, 0.39100166, 0.39598203, 0.40196698,\n",
       "       0.40279956, 0.4131672 , 0.41501234, 0.42632055, 0.43600899,\n",
       "       0.43813254, 0.45383207, 0.46118926, 0.46571375, 0.47947639,\n",
       "       0.49697131, 0.51203382, 0.53087397, 0.53400955, 0.53823146,\n",
       "       0.53940039, 0.54094475, 0.57580316, 0.58997535, 0.59526382,\n",
       "       0.596751  , 0.61392498, 0.62990538, 0.6338546 , 0.65075793,\n",
       "       0.65726893, 0.6575845 , 0.66871086, 0.67104396, 0.68523269,\n",
       "       0.69272331, 0.69461484, 0.71781539, 0.7191683 , 0.72264239,\n",
       "       0.72299811, 0.73252731, 0.73568355, 0.78068444, 0.78384187,\n",
       "       0.78406142, 0.78852952, 0.80327722, 0.83510134, 0.83603423,\n",
       "       0.84463862, 0.85935526, 0.86620255, 0.87605243, 0.88949194,\n",
       "       0.89400582, 0.9693444 , 0.98180571, 0.98921354, 0.99844432])"
      ]
     },
     "execution_count": 32,
     "metadata": {},
     "output_type": "execute_result"
    }
   ],
   "source": [
    "rand_array"
   ]
  },
  {
   "cell_type": "code",
   "execution_count": 33,
   "metadata": {},
   "outputs": [
    {
     "ename": "TypeError",
     "evalue": "'numpy.float64' object is not iterable",
     "output_type": "error",
     "traceback": [
      "\u001b[1;31m---------------------------------------------------------------------------\u001b[0m",
      "\u001b[1;31mTypeError\u001b[0m                                 Traceback (most recent call last)",
      "Cell \u001b[1;32mIn[33], line 2\u001b[0m\n\u001b[0;32m      1\u001b[0m \u001b[38;5;28;01mfor\u001b[39;00m row \u001b[38;5;129;01min\u001b[39;00m rand_array:\n\u001b[1;32m----> 2\u001b[0m     \u001b[38;5;28;01mfor\u001b[39;00m i \u001b[38;5;129;01min\u001b[39;00m row:\n\u001b[0;32m      3\u001b[0m         \u001b[38;5;28mprint\u001b[39m(i)\n",
      "\u001b[1;31mTypeError\u001b[0m: 'numpy.float64' object is not iterable"
     ]
    }
   ],
   "source": [
    "for row in rand_array:\n",
    "    for i in row:\n",
    "        print(i)"
   ]
  },
  {
   "cell_type": "code",
   "execution_count": 45,
   "metadata": {},
   "outputs": [
    {
     "name": "stdout",
     "output_type": "stream",
     "text": [
      "0.011321160931593854\n",
      "0.018758198615983046\n",
      "0.02545310741602136\n",
      "0.03930517285158108\n",
      "0.04260430971016116\n",
      "0.05060779645942748\n",
      "0.058316675134809204\n",
      "0.08048936555977582\n",
      "0.09438630207821408\n",
      "0.10084103341821371\n",
      "0.11053374562435181\n",
      "0.11277225810033031\n",
      "0.11431246467433553\n",
      "0.1256732369282587\n",
      "0.15198479513159413\n",
      "0.16699735262103232\n",
      "0.1689480729779641\n",
      "0.1965165841448896\n",
      "0.20225369943829274\n",
      "0.2055187255773645\n",
      "0.20967962268909723\n",
      "0.21979616873969998\n",
      "0.2227578678196649\n",
      "0.22459288539540778\n",
      "0.23790462783698552\n",
      "0.24059289731534605\n",
      "0.2457359423421147\n",
      "0.25024579378725254\n",
      "0.2518783636141543\n",
      "0.2534722273619757\n",
      "0.2614628494938471\n",
      "0.28188716564083305\n",
      "0.3009429250151827\n",
      "0.3194719448177685\n",
      "0.32527944185730495\n",
      "0.32536065701204986\n",
      "0.332747911567181\n",
      "0.33599423867286937\n",
      "0.3394820241733083\n",
      "0.3420731009362512\n",
      "0.3534042683915136\n",
      "0.3570562087465239\n",
      "0.39100166085477916\n",
      "0.3959820276324676\n",
      "0.4019669782007489\n",
      "0.40279956404256967\n",
      "0.4131672015836678\n",
      "0.4150123384198199\n",
      "0.42632054960544163\n",
      "0.43600898560056434\n",
      "0.4381325366470865\n",
      "0.45383206630669615\n",
      "0.46118925951342105\n",
      "0.46571375028386175\n",
      "0.4794763932520648\n",
      "0.4969713069231304\n",
      "0.5120338217118237\n",
      "0.5308739709201702\n",
      "0.5340095544135564\n",
      "0.538231461633789\n",
      "0.5394003928253146\n",
      "0.5409447487451775\n",
      "0.5758031598554262\n",
      "0.589975345156269\n",
      "0.5952638209815926\n",
      "0.5967510041967983\n",
      "0.6139249815994837\n",
      "0.6299053796480729\n",
      "0.6338546009398188\n",
      "0.6507579308534135\n",
      "0.6572689325232614\n",
      "0.6575845017145442\n",
      "0.6687108632447606\n",
      "0.6710439578247852\n",
      "0.6852326850759937\n",
      "0.6927233128198531\n",
      "0.6946148444565762\n",
      "0.7178153887326255\n",
      "0.7191683006316456\n",
      "0.7226423917392809\n",
      "0.7229981056093576\n",
      "0.7325273080334729\n",
      "0.7356835519054574\n",
      "0.7806844354053684\n",
      "0.7838418678353044\n",
      "0.7840614223373171\n",
      "0.788529515641505\n",
      "0.8032772214528991\n",
      "0.8351013411156614\n",
      "0.8360342302073941\n",
      "0.8446386170526751\n",
      "0.8593552565608861\n",
      "0.8662025522375713\n",
      "0.8760524335906894\n",
      "0.8894919445925947\n",
      "0.8940058182914962\n",
      "0.9693443962741691\n",
      "0.9818057114289225\n",
      "0.9892135400415623\n",
      "0.998444317701665\n"
     ]
    }
   ],
   "source": [
    "for value in rand_array:\n",
    "    print(value)"
   ]
  },
  {
   "cell_type": "code",
   "execution_count": 34,
   "metadata": {},
   "outputs": [],
   "source": [
    "# Exercises."
   ]
  },
  {
   "cell_type": "code",
   "execution_count": 35,
   "metadata": {},
   "outputs": [
    {
     "data": {
      "text/plain": [
       "500.0"
      ]
     },
     "execution_count": 35,
     "metadata": {},
     "output_type": "execute_result"
    }
   ],
   "source": [
    "x=np.linspace(0,10,100)\n",
    "x.sum()"
   ]
  },
  {
   "cell_type": "code",
   "execution_count": 36,
   "metadata": {},
   "outputs": [
    {
     "data": {
      "text/plain": [
       "array([ 2.        ,  2.70707071,  3.41414141,  4.12121212,  4.82828283,\n",
       "        5.53535354,  6.24242424,  6.94949495,  7.65656566,  8.36363636,\n",
       "        9.07070707,  9.77777778, 10.48484848, 11.19191919, 11.8989899 ,\n",
       "       12.60606061, 13.31313131, 14.02020202, 14.72727273, 15.43434343,\n",
       "       16.14141414, 16.84848485, 17.55555556, 18.26262626, 18.96969697,\n",
       "       19.67676768, 20.38383838, 21.09090909, 21.7979798 , 22.50505051,\n",
       "       23.21212121, 23.91919192, 24.62626263, 25.33333333, 26.04040404,\n",
       "       26.74747475, 27.45454545, 28.16161616, 28.86868687, 29.57575758,\n",
       "       30.28282828, 30.98989899, 31.6969697 , 32.4040404 , 33.11111111,\n",
       "       33.81818182, 34.52525253, 35.23232323, 35.93939394, 36.64646465,\n",
       "       37.35353535, 38.06060606, 38.76767677, 39.47474747, 40.18181818,\n",
       "       40.88888889, 41.5959596 , 42.3030303 , 43.01010101, 43.71717172,\n",
       "       44.42424242, 45.13131313, 45.83838384, 46.54545455, 47.25252525,\n",
       "       47.95959596, 48.66666667, 49.37373737, 50.08080808, 50.78787879,\n",
       "       51.49494949, 52.2020202 , 52.90909091, 53.61616162, 54.32323232,\n",
       "       55.03030303, 55.73737374, 56.44444444, 57.15151515, 57.85858586,\n",
       "       58.56565657, 59.27272727, 59.97979798, 60.68686869, 61.39393939,\n",
       "       62.1010101 , 62.80808081, 63.51515152, 64.22222222, 64.92929293,\n",
       "       65.63636364, 66.34343434, 67.05050505, 67.75757576, 68.46464646,\n",
       "       69.17171717, 69.87878788, 70.58585859, 71.29292929, 72.        ])"
      ]
     },
     "execution_count": 36,
     "metadata": {},
     "output_type": "execute_result"
    }
   ],
   "source": [
    "#Calculate y=7x+2\n",
    "y=7*x+2\n",
    "y"
   ]
  },
  {
   "cell_type": "code",
   "execution_count": 37,
   "metadata": {},
   "outputs": [
    {
     "data": {
      "text/plain": [
       "array([0.        , 0.01020304, 0.04081216, 0.09182736, 0.16324865,\n",
       "       0.25507601, 0.36730946, 0.49994898, 0.65299459, 0.82644628])"
      ]
     },
     "execution_count": 37,
     "metadata": {},
     "output_type": "execute_result"
    }
   ],
   "source": [
    "#Calculate y=x**2 for the first 10 elements\n",
    "first_10=x[0:10]\n",
    "y=first_10**2\n",
    "y"
   ]
  },
  {
   "cell_type": "code",
   "execution_count": 38,
   "metadata": {},
   "outputs": [
    {
     "data": {
      "text/plain": [
       "0.040812162024283234"
      ]
     },
     "execution_count": 38,
     "metadata": {},
     "output_type": "execute_result"
    }
   ],
   "source": [
    "x[2]*x[2]"
   ]
  },
  {
   "cell_type": "code",
   "execution_count": 39,
   "metadata": {},
   "outputs": [],
   "source": [
    "#Define a 100 equally spaced points using linspace. And then another 100 random points. And then add x and y together\n",
    "x=np.linspace(0,10,100)\n",
    "\n",
    "y=np.random.random(size=100)\n"
   ]
  },
  {
   "cell_type": "code",
   "execution_count": 40,
   "metadata": {},
   "outputs": [],
   "source": [
    "#Add x and y together and save in z\n",
    "z=x+y"
   ]
  },
  {
   "cell_type": "code",
   "execution_count": 41,
   "metadata": {},
   "outputs": [],
   "source": [
    "#Calculate the sum of of x,y and z and tell me which one is the largest"
   ]
  },
  {
   "cell_type": "code",
   "execution_count": 42,
   "metadata": {},
   "outputs": [
    {
     "data": {
      "text/plain": [
       "array([ 0.58020552,  0.91548236,  0.54692325,  0.69526584,  0.94145503,\n",
       "        1.21689648,  1.4663536 ,  1.50471794,  1.08744737,  1.47546317,\n",
       "        1.74029808,  1.88503991,  1.88524854,  2.2657541 ,  1.75387895,\n",
       "        2.41859702,  2.17276842,  2.07640549,  2.09035984,  2.11271122,\n",
       "        2.95776626,  2.84294439,  2.43432204,  2.92121111,  3.04458648,\n",
       "        3.15267602,  3.41520325,  2.98128799,  3.23443304,  3.34155467,\n",
       "        3.07157137,  3.66899688,  3.25981385,  3.61475788,  3.44885844,\n",
       "        4.49305714,  4.51181281,  4.06731246,  4.23236994,  3.95224185,\n",
       "        4.78409596,  4.92099781,  5.14796022,  5.16558529,  4.69192919,\n",
       "        4.7654003 ,  5.50045485,  4.8457033 ,  5.22660953,  5.26605713,\n",
       "        5.19934569,  5.72509871,  5.41841996,  6.09785544,  5.7667171 ,\n",
       "        6.34286153,  6.15034506,  6.60338122,  6.72734723,  6.6605697 ,\n",
       "        6.69295384,  7.10733791,  6.82842187,  6.39618219,  7.31931944,\n",
       "        7.06160124,  6.80238297,  7.00520742,  6.99699203,  7.22098309,\n",
       "        7.21674088,  7.7460278 ,  7.7536778 ,  7.89962446,  7.79916012,\n",
       "        7.64811248,  8.47553743,  8.50652023,  8.10229566,  8.04080445,\n",
       "        8.34219649,  8.88853135,  8.46925761,  8.75810209,  8.60777522,\n",
       "        8.72552583,  9.47685983,  9.6715683 ,  9.57091569,  9.93744727,\n",
       "        9.24254211, 10.10466468, 10.08126204,  9.6054129 ,  9.93238912,\n",
       "       10.48485875,  9.97513672, 10.47168632, 10.29932823, 10.59407086])"
      ]
     },
     "execution_count": 42,
     "metadata": {},
     "output_type": "execute_result"
    }
   ],
   "source": [
    "z"
   ]
  },
  {
   "cell_type": "code",
   "execution_count": 44,
   "metadata": {},
   "outputs": [
    {
     "name": "stdout",
     "output_type": "stream",
     "text": [
      "500.0\n",
      "50.344199892184164\n",
      "550.3441998921842\n"
     ]
    }
   ],
   "source": [
    "print(x.sum())\n",
    "print(y.sum())\n",
    "print(z.sum())"
   ]
  }
 ],
 "metadata": {
  "kernelspec": {
   "display_name": "Python 3 (ipykernel)",
   "language": "python",
   "name": "python3"
  },
  "language_info": {
   "codemirror_mode": {
    "name": "ipython",
    "version": 3
   },
   "file_extension": ".py",
   "mimetype": "text/x-python",
   "name": "python",
   "nbconvert_exporter": "python",
   "pygments_lexer": "ipython3",
   "version": "3.12.7"
  }
 },
 "nbformat": 4,
 "nbformat_minor": 4
}
